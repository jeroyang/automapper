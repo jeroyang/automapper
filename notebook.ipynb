{
 "cells": [
  {
   "cell_type": "code",
   "execution_count": 262,
   "metadata": {
    "collapsed": false
   },
   "outputs": [],
   "source": [
    "#!/usr/bin/env python\n",
    "# -*- coding: utf-8 -*-\n",
    "\n",
    "from __future__ import (absolute_import, division,\n",
    "                        print_function, unicode_literals)\n",
    "from builtins import *\n",
    "\n",
    "import re\n",
    "from html import unescape\n",
    "from collections import OrderedDict\n",
    "\n",
    "from lxml import etree\n",
    "\n",
    "#from longest_common_subsequence import lcs\n",
    "\n",
    "def strip_tags(markup):\n",
    "    \"\"\"\n",
    "    Remove tags from the markup string\n",
    "    >>> strip_tags('<a href=\"123\">hell<b>o</b></a><br/>')\n",
    "    hello\n",
    "    \"\"\"\n",
    "    tag = r'</?\\w+( .*?)?/?>'\n",
    "    return re.sub(tag, '', markup)\n",
    "\n",
    "def peel(markup):\n",
    "    \"\"\"\n",
    "    Remove the outmost markup tags\n",
    "    \"\"\"\n",
    "    tagpair =r'(?s)^\\s*<(\\w+)( .*)?>(.*)</\\1>\\s*$'\n",
    "    content = re.sub(tagpair, r'\\3', markup)\n",
    "    return content.strip()\n",
    "\n",
    "def similarity(a, b):\n",
    "    \"\"\"\n",
    "    Return the similarity of two strings based on longest_common_subsequence\n",
    "    \"\"\"\n",
    "    return float(len(lcs(a, b))) / max(len(a), len(b))\n",
    "\n",
    "def score(a, b):\n",
    "    \"\"\"\n",
    "    Return a herustic score of a and b\n",
    "    \"\"\"\n",
    "    return similarity(a, b)\n",
    "    \n",
    "filters = OrderedDict((\n",
    "            ('none', lambda x: x),\n",
    "            ('strip_tags', strip_tags),\n",
    "            ('unescape', unescape)\n",
    "            ))\n",
    "class Model(dict):\n",
    "    \"\"\"\n",
    "    The model is dict which holds a flat representation of xml or html tree, mapping from xpath to content\n",
    "    \"\"\"\n",
    "    \n",
    "    def search(self, query, n=None, threshold=None):\n",
    "        \"\"\"\n",
    "        Given content, return the first n results ranked by their scores.\n",
    "        If the threshold is set, only the results which score is greater than the threshold will be returned.\n",
    "        \"\"\"\n",
    "        candidates = []\n",
    "        for xpath, content in self.items():\n",
    "            score2filter = dict()\n",
    "            for name, filtfunc in list(filters.items())[::-1]:\n",
    "                the_score = score(query, filtfunc(content))\n",
    "                score2filter[the_score] = name\n",
    "            best_result = sorted(list(score2filter.items()), key=lambda i: i[0], reverse=True)[0]\n",
    "            best_score, best_filter = best_result\n",
    "            candidates.append((best_score, best_filter, xpath))\n",
    "        \n",
    "        candidates.sort(key=lambda c: c[0], reverse=True)\n",
    "        \n",
    "        if threshold is not None:\n",
    "            candidates = [c for c in candidates if c[0] >=threshold]\n",
    "            \n",
    "        if n is None:\n",
    "            return candidates\n",
    "        else:\n",
    "            return candidates[:n]\n",
    "            \n",
    "        \n",
    "    @classmethod\n",
    "    def fromlxml(cls, xml):\n",
    "        \"\"\"\n",
    "        A factory which returns a Model from an XML or HTML tree (from lxml)\n",
    "        \"\"\"\n",
    "        model = cls()\n",
    "        tree = etree.ElementTree(xml)\n",
    "        for node in tree.iter():\n",
    "            raw_content = etree.tostring(node, with_tail=False, encoding='unicode')\n",
    "            xpath = tree.getpath(node)\n",
    "            content = peel(raw_content)\n",
    "            model[xpath] = content\n",
    "            \n",
    "        return model\n",
    "        \n",
    "        \n",
    "        "
   ]
  },
  {
   "cell_type": "code",
   "execution_count": 263,
   "metadata": {
    "collapsed": false
   },
   "outputs": [],
   "source": [
    "text = \"\"\"<html>\n",
    "    <head>\n",
    "    </head>\n",
    "    <body>\n",
    "        <h1>Title</h1>\n",
    "        \n",
    "        <p>hell<b>o</b></p>\n",
    "        <p>hello</p>\n",
    "        <p>w<b>o</b>rld</p>\n",
    "        <br />\n",
    "        <p>bob</p>\n",
    "        tail\n",
    "    </body>\n",
    "</html>\"\"\"\n",
    "xml = etree.fromstring(text)\n",
    "\n",
    "model = Model.fromlxml(xml)"
   ]
  },
  {
   "cell_type": "code",
   "execution_count": 264,
   "metadata": {
    "collapsed": false
   },
   "outputs": [
    {
     "data": {
      "text/plain": [
       "[(1.0, 'none', '/html/body/p[2]'),\n",
       " (1.0, 'strip_tags', '/html/body/p[1]'),\n",
       " (0.2, 'none', '/html/body/h1'),\n",
       " (0.2, 'strip_tags', '/html/body/p[3]'),\n",
       " (0.2, 'none', '/html/body/p[1]/b'),\n",
       " (0.2, 'none', '/html/body/p[4]'),\n",
       " (0.2, 'none', '/html/body/p[3]/b'),\n",
       " (0.05555555555555555, 'strip_tags', '/html/body'),\n",
       " (0.043859649122807015, 'strip_tags', '/html'),\n",
       " (0.0, 'none', '/html/head'),\n",
       " (0.0, 'none', '/html/body/br')]"
      ]
     },
     "execution_count": 264,
     "metadata": {},
     "output_type": "execute_result"
    }
   ],
   "source": [
    "model.search('hello')"
   ]
  },
  {
   "cell_type": "code",
   "execution_count": 249,
   "metadata": {
    "collapsed": false
   },
   "outputs": [],
   "source": [
    "text = \"\"\"<html>\n",
    "    <head>\n",
    "    </head>\n",
    "    <body>\n",
    "        <h1>Title</h1>\n",
    "        \n",
    "        <p>hell<b>o</b></p>\n",
    "        <p>hello</p>\n",
    "        <p>w<b>o</b>rld</p>\n",
    "        <br />\n",
    "        <p>bob</p>\n",
    "        tail\n",
    "    </body>\n",
    "</html>\"\"\"\n",
    "xml = etree.fromstring(text)\n",
    "model = Model(xml)"
   ]
  },
  {
   "cell_type": "code",
   "execution_count": 251,
   "metadata": {
    "collapsed": false
   },
   "outputs": [
    {
     "data": {
      "text/plain": [
       "[]"
      ]
     },
     "execution_count": 251,
     "metadata": {},
     "output_type": "execute_result"
    }
   ],
   "source": [
    "model.search('hello')"
   ]
  },
  {
   "cell_type": "code",
   "execution_count": 169,
   "metadata": {
    "collapsed": false
   },
   "outputs": [],
   "source": [
    "\n",
    "\n",
    "def peel(markup):\n",
    "    \"\"\"\n",
    "    Remove the outmost markup tags\n",
    "    \"\"\"\n",
    "    tagpair =r'(?s)^\\s*<(\\w+)( .*)?>(.*)</\\1>\\s*$'\n",
    "    content = re.sub(tagpair, r'\\3', markup)\n",
    "    return content.strip()"
   ]
  },
  {
   "cell_type": "code",
   "execution_count": 152,
   "metadata": {
    "collapsed": false
   },
   "outputs": [
    {
     "data": {
      "text/plain": [
       "[('a', '', '\\n  <b>x</b>\\n')]"
      ]
     },
     "execution_count": 152,
     "metadata": {},
     "output_type": "execute_result"
    }
   ],
   "source": [
    "re.findall(tagpair, text)\n"
   ]
  },
  {
   "cell_type": "code",
   "execution_count": 153,
   "metadata": {
    "collapsed": false
   },
   "outputs": [
    {
     "data": {
      "text/plain": [
       "<_sre.SRE_Match object; span=(0, 19), match='<a>\\n  <b>x</b>\\n</a>'>"
      ]
     },
     "execution_count": 153,
     "metadata": {},
     "output_type": "execute_result"
    }
   ],
   "source": [
    "re.match(tagpair, text.strip())"
   ]
  },
  {
   "cell_type": "code",
   "execution_count": 154,
   "metadata": {
    "collapsed": false
   },
   "outputs": [
    {
     "data": {
      "text/plain": [
       "'<b>x</b>'"
      ]
     },
     "execution_count": 154,
     "metadata": {},
     "output_type": "execute_result"
    }
   ],
   "source": [
    "peel(text)"
   ]
  },
  {
   "cell_type": "code",
   "execution_count": 157,
   "metadata": {
    "collapsed": true
   },
   "outputs": [],
   "source": [
    "bt = b'abc'"
   ]
  },
  {
   "cell_type": "code",
   "execution_count": 160,
   "metadata": {
    "collapsed": false
   },
   "outputs": [
    {
     "data": {
      "text/plain": [
       "'abc'"
      ]
     },
     "execution_count": 160,
     "metadata": {},
     "output_type": "execute_result"
    }
   ],
   "source": [
    "bt.decode()"
   ]
  },
  {
   "cell_type": "code",
   "execution_count": null,
   "metadata": {
    "collapsed": true
   },
   "outputs": [],
   "source": []
  }
 ],
 "metadata": {
  "kernelspec": {
   "display_name": "Python 3",
   "language": "python",
   "name": "python3"
  },
  "language_info": {
   "codemirror_mode": {
    "name": "ipython",
    "version": 3
   },
   "file_extension": ".py",
   "mimetype": "text/x-python",
   "name": "python",
   "nbconvert_exporter": "python",
   "pygments_lexer": "ipython3",
   "version": "3.5.0"
  }
 },
 "nbformat": 4,
 "nbformat_minor": 1
}
